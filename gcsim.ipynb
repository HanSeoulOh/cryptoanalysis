{
 "cells": [
  {
   "cell_type": "code",
   "execution_count": 30,
   "metadata": {},
   "outputs": [],
   "source": [
    "import os\n",
    "import subprocess\n",
    "\n",
    "\n",
    "gcsimpath = os.path.join(os.path.abspath('../'), \"gcsim\", \"cmd\", \"gcsim\", \"gcsim.exe\")\n"
   ]
  },
  {
   "cell_type": "code",
   "execution_count": 31,
   "metadata": {},
   "outputs": [],
   "source": [
    "stream = subprocess.run([gcsimpath, '-c=' + os.path.join(os.path.abspath(\n",
    "    '../'), \"gcsim\", \"cmd\", \"gcsim\", \"yaetaser.txt\")], capture_output=True)\n",
    "str(stream.stdout).split(\"\\n\")\n",
    "char = \"yaemiko\""
   ]
  },
  {
   "cell_type": "code",
   "execution_count": null,
   "metadata": {},
   "outputs": [],
   "source": [
    "startidx = 0\n",
    "endidx = 0\n",
    "for i, token in enumerate(tokens):\n",
    "    if token.split(\" \")[0] == char:\n",
    "        if startidx == 0:\n",
    "            startidx = i\n",
    "        else:\n",
    "            endidx = i\n",
    "            break\n",
    "tokens[startidx:endidx+1]\n"
   ]
  },
  {
   "cell_type": "code",
   "execution_count": null,
   "metadata": {},
   "outputs": [],
   "source": [
    "tokens = str(stream.stdout).split(\"\\\\n\")\n",
    "tokens[-3]"
   ]
  }
 ],
 "metadata": {
  "interpreter": {
   "hash": "081f8b412a3cf5b198b7dd3176d6910bcda0c388e53a2c537242c2e5d7c4023e"
  },
  "kernelspec": {
   "display_name": "Python 3.8.11 64-bit ('atom': conda)",
   "language": "python",
   "name": "python3"
  },
  "language_info": {
   "codemirror_mode": {
    "name": "ipython",
    "version": 3
   },
   "file_extension": ".py",
   "mimetype": "text/x-python",
   "name": "python",
   "nbconvert_exporter": "python",
   "pygments_lexer": "ipython3",
   "version": "3.8.11"
  },
  "orig_nbformat": 4
 },
 "nbformat": 4,
 "nbformat_minor": 2
}

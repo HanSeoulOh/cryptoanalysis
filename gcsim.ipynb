{
 "cells": [
  {
   "cell_type": "code",
   "execution_count": 45,
   "metadata": {},
   "outputs": [],
   "source": [
    "import os\n",
    "import subprocess\n",
    "\n",
    "\n",
    "gcsimpath = os.path.join(os.path.abspath('../'), \"gcsim\", \"cmd\", \"gcsim\", \"gcsim.exe\")\n"
   ]
  },
  {
   "cell_type": "code",
   "execution_count": 52,
   "metadata": {},
   "outputs": [
    {
     "name": "stdout",
     "output_type": "stream",
     "text": [
      "b'------------------------------------------\\nfischl contributed the following dps:\\n\\tFischl A4 (3.00% of total, 17.82 average damage procs): avg 1810.13 [min: 1268.41 | max: 2240.17] \\n\\tMidnight Phantasmagoria (3.86% of total, 5.69 average damage procs): avg 2325.12 [min: 549.20 | max: 2852.20] \\n\\tOz (Burst) (3.91% of total, 11.93 average damage procs): avg 2357.81 [min: 1482.01 | max: 3415.41] \\n\\tOz (Skill) (2.91% of total, 8.91 average damage procs): avg 1756.16 [min: 727.02 | max: 2276.94] \\n\\tOz (Summon) (1.28% of total, 3.00 average damage procs): avg 773.24 [min: 389.48 | max: 888.02] \\n\\tSkyward Harp Proc (1.23% of total, 8.49 average damage procs): avg 738.60 [min: 245.44 | max: 905.84] \\n\\telectrocharged (2.14% of total, 10.86 average damage procs): avg 1288.42 [min: 533.36 | max: 1466.05] \\nfischl total avg dps: 11049.49; total percentage: 18%\\nsucrose contributed the following dps:\\n\\tAstable Anemohypostasis Creation-6308 (1.91% of total, 10.00 average damage procs): avg 1152.66 [min: 616.80 | max: 1773.29] \\n\\tForbidden Creation-Isomer 75/Type II (1.21% of total, 9.00 average damage procs): avg 727.40 [min: 486.25 | max: 972.51] \\n\\tForbidden Creation-Isomer 75/Type II (Absorb) (0.28% of total, 9.00 average damage procs): avg 170.19 [min: 113.63 | max: 227.26] \\n\\tNormal (1.07% of total, 32.94 average damage procs): avg 647.39 [min: 499.63 | max: 864.82] \\n\\telectrocharged (19.66% of total, 26.20 average damage procs): avg 11843.82 [min: 10816.73 | max: 14090.21] \\n\\tswirl-electro (9.87% of total, 23.08 average damage procs): avg 5949.50 [min: 4898.13 | max: 6444.90] \\n\\tswirl-electro (aoe) (19.56% of total, 46.16 average damage procs): avg 11783.11 [min: 9684.17 | max: 12777.72] \\n\\tswirl-hydro (1.81% of total, 4.23 average damage procs): avg 1090.99 [min: 1031.18 | max: 1546.78] \\n\\tswirl-hydro (aoe) (2.84% of total, 8.46 average damage procs): avg 1709.06 [min: 1614.03 | max: 2421.04] \\nsucrose total avg dps: 35074.13; total percentage: 58%\\nxingqiu contributed the following dps:\\n\\tGuhua Sword: Fatal Rainscreen (3.26% of total, 6.00 average damage procs): avg 1963.22 [min: 1206.16 | max: 2496.75] \\n\\tGuhua Sword: Raincutter (7.65% of total, 29.93 average damage procs): avg 4606.60 [min: 3361.36 | max: 5505.77] \\n\\tNormal 0 (0.04% of total, 1.00 average damage procs): avg 25.58 [min: 15.66 | max: 32.41] \\n\\tXingqiu Skill (Orbital) (0.00% of total, 0.00 average damage procs): avg 0.00 [min: 0.00 | max: 0.00] \\n\\telectrocharged (3.16% of total, 15.11 average damage procs): avg 1906.83 [min: 1737.55 | max: 2243.28] \\nxingqiu total avg dps: 8502.22; total percentage: 14%\\nyaemiko contributed the following dps:\\n\\tSesshou Sakura Tick (8.88% of total, 20.19 average damage procs): avg 5350.78 [min: 3345.82 | max: 7452.09] \\n\\telectrocharged (0.53% of total, 1.65 average damage procs): avg 318.44 [min: 170.58 | max: 456.55] \\nyaemiko total avg dps: 5669.22; total percentage: 9%\\n------------------------------------------\\nCharacter ability usage:\\nfischl used the following abilities:\\n\\tburst: avg 1.92 [min: 1 | max: 2]\\n\\tskill: avg 1.00 [min: 1 | max: 1]\\n\\tswap: avg 2.94 [min: 2 | max: 3]\\nsucrose used the following abilities:\\n\\tattack: avg 33.70 [min: 31 | max: 37]\\n\\tburst: avg 1.01 [min: 1 | max: 2]\\n\\tskill: avg 3.42 [min: 2 | max: 4]\\n\\tswap: avg 4.80 [min: 4 | max: 5]\\nxingqiu used the following abilities:\\n\\tattack: avg 1.00 [min: 1 | max: 1]\\n\\tburst: avg 1.00 [min: 1 | max: 1]\\n\\tskill: avg 1.00 [min: 1 | max: 1]\\nyaemiko used the following abilities:\\n\\tskill: avg 6.00 [min: 6 | max: 6]\\n\\tswap: avg 2.00 [min: 2 | max: 2]\\n------------------------------------------\\nCharacter field time:\\nfischl on average active for 11% [min: 8% | max: 12%]\\nsucrose on average active for 70% [min: 70% | max: 74%]\\nxingqiu on average active for 9% [min: 9% | max: 9%]\\nyaemiko on average active for 9% [min: 9% | max: 9%]\\n------------------------------------------\\nParticle count:\\n\\tdrop: avg 5.46 [min: 4 max: 6]\\n\\telectro res: avg 2.40 [min: 2 max: 3]\\n\\tfischl: avg 13.01 [min: 6 max: 18]\\n\\tkitsune-tick particle: avg 6.80 [min: 6 max: 7]\\n\\tsucrose: avg 12.39 [min: 8 max: 16]\\n\\txingqiu: avg 5.00 [min: 5 max: 5]\\n------------------------------------------\\nReactions:\\n\\telectrocharged: avg 13.54 [min: 10 max: 15]\\n\\tswirl-electro: avg 32.01 [min: 27 max: 34]\\n\\tswirl-hydro: avg 4.24 [min: 4 max: 7]\\n------------------------------------------\\nElement up time:\\n\\tTarget #1\\n\\t\\tnone: avg 100.00% [min: 100.00% max: 100.00%]\\n\\tTarget #2\\n\\t\\telectro: avg 29.74% [min: 25.60% max: 35.80%]\\n\\t\\thydro: avg 9.11% [min: 7.73% max: 10.67%]\\n\\t\\tnone: avg 2.30% [min: 1.27% max: 6.67%]\\n\\t\\tec: avg 58.85% [min: 55.20% max: 61.27%]\\n\\tTarget #3\\n\\t\\telectro: avg 32.60% [min: 25.13% max: 38.87%]\\n\\t\\thydro: avg 7.62% [min: 7.60% max: 7.67%]\\n\\t\\tnone: avg 1.27% [min: 1.27% max: 1.27%]\\n\\t\\tec: avg 58.52% [min: 52.27% max: 65.93%]\\n\\tTarget #4\\n\\t\\telectro: avg 32.60% [min: 25.13% max: 38.87%]\\n\\t\\thydro: avg 7.62% [min: 7.60% max: 7.67%]\\n\\t\\tnone: avg 1.27% [min: 1.27% max: 1.27%]\\n\\t\\tec: avg 58.52% [min: 52.27% max: 65.93%]\\n------------------------------------------\\nDamage by Target:\\nfischl contributed the following dps:\\n\\t1 (13.29% of total): avg 8010.60 [min: 6150.37 | max: 9402.51] \\n\\t2 (2.59% of total): avg 1561.63 [min: 644.63 | max: 2068.24] \\n\\t3 (2.45% of total): avg 1477.26 [min: 504.27 | max: 1906.16] \\nfischl total avg dps: 11049.49; total percentage: 18%\\nsucrose contributed the following dps:\\n\\t1 (16.38% of total): avg 9871.65 [min: 8758.06 | max: 11069.56] \\n\\t2 (20.91% of total): avg 12600.88 [min: 11545.02 | max: 13905.11] \\n\\t3 (20.91% of total): avg 12601.61 [min: 11599.05 | max: 13804.90] \\nsucrose total avg dps: 35074.13; total percentage: 58%\\nxingqiu contributed the following dps:\\n\\t1 (9.82% of total): avg 5914.47 [min: 4714.44 | max: 7445.63] \\n\\t2 (2.15% of total): avg 1293.21 [min: 914.97 | max: 1480.92] \\n\\t3 (2.15% of total): avg 1294.54 [min: 914.97 | max: 1480.92] \\nxingqiu total avg dps: 8502.22; total percentage: 14%\\n------------------------------------------\\nDamage by Target Omitted (Only 1 Target)\\n------------------------------------------\\nAverage 1506371.59 damage over 25.00 seconds, resulting in 60255 dps (min: 54543.41 max: 64367.72 std: 1198.60) \\nSimulation completed 3000 iterations in 1.0236784s\\n'\n"
     ]
    }
   ],
   "source": [
    "stream = subprocess.run([gcsimpath, '-c=' + os.path.join(os.path.abspath(\n",
    "    '../'), \"gcsim\", \"cmd\", \"gcsim\", \"yaetaser.txt\")], capture_output=True)\n",
    "print(stream.stdout)\n"
   ]
  }
 ],
 "metadata": {
  "interpreter": {
   "hash": "081f8b412a3cf5b198b7dd3176d6910bcda0c388e53a2c537242c2e5d7c4023e"
  },
  "kernelspec": {
   "display_name": "Python 3.8.11 64-bit ('atom': conda)",
   "language": "python",
   "name": "python3"
  },
  "language_info": {
   "codemirror_mode": {
    "name": "ipython",
    "version": 3
   },
   "file_extension": ".py",
   "mimetype": "text/x-python",
   "name": "python",
   "nbconvert_exporter": "python",
   "pygments_lexer": "ipython3",
   "version": "3.8.11"
  },
  "orig_nbformat": 4
 },
 "nbformat": 4,
 "nbformat_minor": 2
}
